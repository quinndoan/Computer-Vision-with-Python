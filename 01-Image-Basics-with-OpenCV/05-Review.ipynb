{
 "cells": [
  {
   "cell_type": "code",
   "execution_count": null,
   "metadata": {},
   "outputs": [],
   "source": [
    "import cv2\n",
    "import numpy as np\n",
    "\n",
    "#VARIABLES\n",
    "\n",
    "drawing = False\n",
    "ix, iy = -1, -1\n",
    "\n",
    "\n",
    "\n",
    "#FUNCTION\n",
    "def draw_rectangle(event, x,y, flags, params):\n",
    "    global ix,iy,drawing\n",
    "    if event == cv2.EVENT_LBUTTONDOWN:\n",
    "        drawing = True\n",
    "        ix, iy = x,y\n",
    "elif event == cv2.EVENT.MOUSEMOVE:\n",
    "if drawing == True\n",
    "cv2. rectangle(img, (ix,iy),(x,y).(0,255,0),-1)\n",
    "\n",
    "\n",
    "\n",
    "#SHOWING\n",
    "img = np.zeros((512,512,3))\n",
    "\n",
    "cv2.namedWindow(winname= 'My_drawing')\n",
    "cv2.setMouseCallBack('My_drawing', draw_rectangle)\n",
    "\n",
    "while True:\n",
    "    cv2.imshow('My_drawing',img)\n",
    "\n",
    "    if cv2.waitKey(1) & 0xFF == 27\n",
    "\n",
    "    \n"
   ]
  }
 ],
 "metadata": {
  "language_info": {
   "name": "python"
  }
 },
 "nbformat": 4,
 "nbformat_minor": 2
}
